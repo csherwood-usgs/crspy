{
 "metadata": {
  "name": "appending_to_a_file.ipynb"
 },
 "nbformat": 3,
 "nbformat_minor": 0,
 "worksheets": [
  {
   "cells": [
    {
     "cell_type": "code",
     "collapsed": false,
     "input": [
      "# append to a new file\n",
      "proj_dir = r\"D:/crs/proj/\"\n",
      "# case directory\n",
      "case_dir = r'flocs/aug_runs/'\n",
      "fname = proj_dir+case_dir+\"testappend.txt\" \n",
      "with open( fname, \"a\") as afile:\n",
      "    afile.write(\"appendmore text\")"
     ],
     "language": "python",
     "metadata": {},
     "outputs": [],
     "prompt_number": 2
    }
   ],
   "metadata": {}
  }
 ]
}