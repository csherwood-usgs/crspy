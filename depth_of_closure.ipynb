{
 "cells": [
  {
   "cell_type": "code",
   "execution_count": 6,
   "metadata": {},
   "outputs": [
    {
     "name": "stdout",
     "output_type": "stream",
     "text": [
      "6.05565749235474\n",
      "6.28\n"
     ]
    }
   ],
   "source": [
    "import numpy as np\n",
    "\n",
    "def hclose(He,Te):\n",
    "    '''\n",
    "    Calculate depth of closure per Hallermeier (1978, 1981) using constants suggested by \n",
    "    Birkemeier (1985), as cited in Dean (2002), Eqn. 3.9.\n",
    "    \n",
    "    The effective significant wave height is that which is exceeded only 12 hours per day, or 0.14% of the time.\n",
    "    He = average Hs + 5.6 standard deviations of wave height.\n",
    "    \n",
    "    Input:\n",
    "        He - \"effective\" significant wave height [m]\n",
    "        Te - associated period [s]\n",
    "    \n",
    "    Returns:\n",
    "        h* - Closure depth\n",
    "    '''\n",
    "    g = 9.81\n",
    "    return 1.75*He - 57.9*(He**2/(g*Te**2))\n",
    "\n",
    "He = 4.\n",
    "Te = 10.\n",
    "print(hclose(He,Te))\n",
    "print(1.57*He)"
   ]
  },
  {
   "cell_type": "code",
   "execution_count": null,
   "metadata": {},
   "outputs": [],
   "source": []
  }
 ],
 "metadata": {
  "kernelspec": {
   "display_name": "Python 3",
   "language": "python",
   "name": "python3"
  },
  "language_info": {
   "codemirror_mode": {
    "name": "ipython",
    "version": 3
   },
   "file_extension": ".py",
   "mimetype": "text/x-python",
   "name": "python",
   "nbconvert_exporter": "python",
   "pygments_lexer": "ipython3",
   "version": "3.7.1"
  }
 },
 "nbformat": 4,
 "nbformat_minor": 2
}
